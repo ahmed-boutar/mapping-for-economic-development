{
 "cells": [
  {
   "cell_type": "code",
   "execution_count": 5,
   "metadata": {},
   "outputs": [],
   "source": [
    "import geopandas as gpd \n",
    "import matplotlib.pyplot as plt\n",
    "import h3\n",
    "import json\n",
    "import folium\n",
    "from geojson.feature import *\n",
    "import streamlit as st\n",
    "import branca.colormap as cm \n",
    "import folium\n",
    "from streamlit_folium import folium_static\n",
    "from folium import Map, Marker, GeoJson \n",
    "\n",
    "import pandas as pd \n",
    "\n",
    "gdf = gpd.read_file('../data/raw/kontur_population_KE_20231101.gpkg')"
   ]
  },
  {
   "cell_type": "code",
   "execution_count": null,
   "metadata": {},
   "outputs": [],
   "source": [
    "df = pd.read_file('../../data/processed/KEN_h3_data_full.csv')"
   ]
  },
  {
   "cell_type": "code",
   "execution_count": 6,
   "metadata": {},
   "outputs": [
    {
     "data": {
      "text/plain": [
       "array([3773951.2226856 , -546637.76715794, 4665760.0128112 ,\n",
       "        515708.02861914])"
      ]
     },
     "execution_count": 6,
     "metadata": {},
     "output_type": "execute_result"
    }
   ],
   "source": [
    "gdf.total_bounds"
   ]
  },
  {
   "cell_type": "code",
   "execution_count": 7,
   "metadata": {},
   "outputs": [
    {
     "data": {
      "text/plain": [
       "<Projected CRS: EPSG:3857>\n",
       "Name: WGS 84 / Pseudo-Mercator\n",
       "Axis Info [cartesian]:\n",
       "- X[east]: Easting (metre)\n",
       "- Y[north]: Northing (metre)\n",
       "Area of Use:\n",
       "- name: World between 85.06°S and 85.06°N.\n",
       "- bounds: (-180.0, -85.06, 180.0, 85.06)\n",
       "Coordinate Operation:\n",
       "- name: Popular Visualisation Pseudo-Mercator\n",
       "- method: Popular Visualisation Pseudo Mercator\n",
       "Datum: World Geodetic System 1984 ensemble\n",
       "- Ellipsoid: WGS 84\n",
       "- Prime Meridian: Greenwich"
      ]
     },
     "execution_count": 7,
     "metadata": {},
     "output_type": "execute_result"
    }
   ],
   "source": [
    "gdf.crs"
   ]
  },
  {
   "cell_type": "code",
   "execution_count": 49,
   "metadata": {},
   "outputs": [
    {
     "data": {
      "text/plain": [
       "231360"
      ]
     },
     "execution_count": 49,
     "metadata": {},
     "output_type": "execute_result"
    }
   ],
   "source": [
    "len(gdf)"
   ]
  },
  {
   "cell_type": "code",
   "execution_count": 45,
   "metadata": {},
   "outputs": [],
   "source": [
    "gdf_test = gdf.copy()\n",
    "gdf_test = gdf_test.to_crs('EPSG:4326')"
   ]
  },
  {
   "cell_type": "code",
   "execution_count": 48,
   "metadata": {},
   "outputs": [
    {
     "data": {
      "text/plain": [
       "231360"
      ]
     },
     "execution_count": 48,
     "metadata": {},
     "output_type": "execute_result"
    }
   ],
   "source": [
    "len(gdf_test)"
   ]
  },
  {
   "cell_type": "code",
   "execution_count": 36,
   "metadata": {},
   "outputs": [
    {
     "data": {
      "text/html": [
       "<div>\n",
       "<style scoped>\n",
       "    .dataframe tbody tr th:only-of-type {\n",
       "        vertical-align: middle;\n",
       "    }\n",
       "\n",
       "    .dataframe tbody tr th {\n",
       "        vertical-align: top;\n",
       "    }\n",
       "\n",
       "    .dataframe thead th {\n",
       "        text-align: right;\n",
       "    }\n",
       "</style>\n",
       "<table border=\"1\" class=\"dataframe\">\n",
       "  <thead>\n",
       "    <tr style=\"text-align: right;\">\n",
       "      <th></th>\n",
       "      <th>h3</th>\n",
       "      <th>population</th>\n",
       "      <th>geometry</th>\n",
       "    </tr>\n",
       "  </thead>\n",
       "  <tbody>\n",
       "    <tr>\n",
       "      <th>0</th>\n",
       "      <td>887b5bb76dfffff</td>\n",
       "      <td>214.0</td>\n",
       "      <td>POLYGON ((4470667.403 -341703.95, 4470853.105 ...</td>\n",
       "    </tr>\n",
       "    <tr>\n",
       "      <th>1</th>\n",
       "      <td>887b5bb76bfffff</td>\n",
       "      <td>1150.0</td>\n",
       "      <td>POLYGON ((4469025.536 -341952.142, 4469211.29 ...</td>\n",
       "    </tr>\n",
       "    <tr>\n",
       "      <th>2</th>\n",
       "      <td>887b5bb769fffff</td>\n",
       "      <td>209.0</td>\n",
       "      <td>POLYGON ((4469934.407 -342305.718, 4470120.135...</td>\n",
       "    </tr>\n",
       "    <tr>\n",
       "      <th>3</th>\n",
       "      <td>887b5bb765fffff</td>\n",
       "      <td>237.0</td>\n",
       "      <td>POLYGON ((4470491.565 -340748.674, 4470677.266...</td>\n",
       "    </tr>\n",
       "    <tr>\n",
       "      <th>4</th>\n",
       "      <td>887b5bb763fffff</td>\n",
       "      <td>359.0</td>\n",
       "      <td>POLYGON ((4468849.737 -340996.802, 4469035.49 ...</td>\n",
       "    </tr>\n",
       "  </tbody>\n",
       "</table>\n",
       "</div>"
      ],
      "text/plain": [
       "                h3  population  \\\n",
       "0  887b5bb76dfffff       214.0   \n",
       "1  887b5bb76bfffff      1150.0   \n",
       "2  887b5bb769fffff       209.0   \n",
       "3  887b5bb765fffff       237.0   \n",
       "4  887b5bb763fffff       359.0   \n",
       "\n",
       "                                            geometry  \n",
       "0  POLYGON ((4470667.403 -341703.95, 4470853.105 ...  \n",
       "1  POLYGON ((4469025.536 -341952.142, 4469211.29 ...  \n",
       "2  POLYGON ((4469934.407 -342305.718, 4470120.135...  \n",
       "3  POLYGON ((4470491.565 -340748.674, 4470677.266...  \n",
       "4  POLYGON ((4468849.737 -340996.802, 4469035.49 ...  "
      ]
     },
     "execution_count": 36,
     "metadata": {},
     "output_type": "execute_result"
    }
   ],
   "source": [
    "gdf.head()"
   ]
  },
  {
   "cell_type": "code",
   "execution_count": 54,
   "metadata": {},
   "outputs": [
    {
     "data": {
      "text/plain": [
       "231360"
      ]
     },
     "execution_count": 54,
     "metadata": {},
     "output_type": "execute_result"
    }
   ],
   "source": [
    "len(gdf)"
   ]
  },
  {
   "cell_type": "code",
   "execution_count": 51,
   "metadata": {},
   "outputs": [
    {
     "data": {
      "text/plain": [
       "241169"
      ]
     },
     "execution_count": 51,
     "metadata": {},
     "output_type": "execute_result"
    }
   ],
   "source": [
    "len(df_aggreg_age_demographics)"
   ]
  },
  {
   "cell_type": "code",
   "execution_count": 65,
   "metadata": {},
   "outputs": [
    {
     "name": "stderr",
     "output_type": "stream",
     "text": [
      "/var/folders/b7/2dqsctv50sbgk3bg9gpz453c0000gn/T/ipykernel_11395/735720476.py:2: UserWarning: Geometry is in a geographic CRS. Results from 'centroid' are likely incorrect. Use 'GeoSeries.to_crs()' to re-project geometries to a projected CRS before this operation.\n",
      "\n",
      "  gdf['lon'] = gdf_wgs84.geometry.centroid.x\n",
      "/var/folders/b7/2dqsctv50sbgk3bg9gpz453c0000gn/T/ipykernel_11395/735720476.py:3: UserWarning: Geometry is in a geographic CRS. Results from 'centroid' are likely incorrect. Use 'GeoSeries.to_crs()' to re-project geometries to a projected CRS before this operation.\n",
      "\n",
      "  gdf['lat'] = gdf_wgs84.geometry.centroid.y\n"
     ]
    }
   ],
   "source": [
    "gdf_wgs84 = gdf.to_crs(epsg=4326)\n",
    "gdf['lon'] = gdf_wgs84.geometry.centroid.x\n",
    "gdf['lat'] = gdf_wgs84.geometry.centroid.y\n",
    "gdf['lat'] = gdf['lat'].astype('float32')\n",
    "gdf['lon'] = gdf['lon'].astype('float32')"
   ]
  },
  {
   "cell_type": "code",
   "execution_count": 66,
   "metadata": {},
   "outputs": [
    {
     "data": {
      "text/html": [
       "<div>\n",
       "<style scoped>\n",
       "    .dataframe tbody tr th:only-of-type {\n",
       "        vertical-align: middle;\n",
       "    }\n",
       "\n",
       "    .dataframe tbody tr th {\n",
       "        vertical-align: top;\n",
       "    }\n",
       "\n",
       "    .dataframe thead th {\n",
       "        text-align: right;\n",
       "    }\n",
       "</style>\n",
       "<table border=\"1\" class=\"dataframe\">\n",
       "  <thead>\n",
       "    <tr style=\"text-align: right;\">\n",
       "      <th></th>\n",
       "      <th>h3</th>\n",
       "      <th>population</th>\n",
       "      <th>geometry</th>\n",
       "      <th>lon</th>\n",
       "      <th>lat</th>\n",
       "    </tr>\n",
       "  </thead>\n",
       "  <tbody>\n",
       "    <tr>\n",
       "      <th>0</th>\n",
       "      <td>887b5bb76dfffff</td>\n",
       "      <td>214.0</td>\n",
       "      <td>POLYGON ((4470667.403 -341703.95, 4470853.105 ...</td>\n",
       "      <td>40.157440</td>\n",
       "      <td>-3.064198</td>\n",
       "    </tr>\n",
       "    <tr>\n",
       "      <th>1</th>\n",
       "      <td>887b5bb76bfffff</td>\n",
       "      <td>1150.0</td>\n",
       "      <td>POLYGON ((4469025.536 -341952.142, 4469211.29 ...</td>\n",
       "      <td>40.142693</td>\n",
       "      <td>-3.066424</td>\n",
       "    </tr>\n",
       "    <tr>\n",
       "      <th>2</th>\n",
       "      <td>887b5bb769fffff</td>\n",
       "      <td>209.0</td>\n",
       "      <td>POLYGON ((4469934.407 -342305.718, 4470120.135...</td>\n",
       "      <td>40.150856</td>\n",
       "      <td>-3.069596</td>\n",
       "    </tr>\n",
       "    <tr>\n",
       "      <th>3</th>\n",
       "      <td>887b5bb765fffff</td>\n",
       "      <td>237.0</td>\n",
       "      <td>POLYGON ((4470491.565 -340748.674, 4470677.266...</td>\n",
       "      <td>40.155861</td>\n",
       "      <td>-3.055629</td>\n",
       "    </tr>\n",
       "    <tr>\n",
       "      <th>4</th>\n",
       "      <td>887b5bb763fffff</td>\n",
       "      <td>359.0</td>\n",
       "      <td>POLYGON ((4468849.737 -340996.802, 4469035.49 ...</td>\n",
       "      <td>40.141113</td>\n",
       "      <td>-3.057854</td>\n",
       "    </tr>\n",
       "  </tbody>\n",
       "</table>\n",
       "</div>"
      ],
      "text/plain": [
       "                h3  population  \\\n",
       "0  887b5bb76dfffff       214.0   \n",
       "1  887b5bb76bfffff      1150.0   \n",
       "2  887b5bb769fffff       209.0   \n",
       "3  887b5bb765fffff       237.0   \n",
       "4  887b5bb763fffff       359.0   \n",
       "\n",
       "                                            geometry        lon       lat  \n",
       "0  POLYGON ((4470667.403 -341703.95, 4470853.105 ...  40.157440 -3.064198  \n",
       "1  POLYGON ((4469025.536 -341952.142, 4469211.29 ...  40.142693 -3.066424  \n",
       "2  POLYGON ((4469934.407 -342305.718, 4470120.135...  40.150856 -3.069596  \n",
       "3  POLYGON ((4470491.565 -340748.674, 4470677.266...  40.155861 -3.055629  \n",
       "4  POLYGON ((4468849.737 -340996.802, 4469035.49 ...  40.141113 -3.057854  "
      ]
     },
     "execution_count": 66,
     "metadata": {},
     "output_type": "execute_result"
    }
   ],
   "source": [
    "gdf.head()"
   ]
  },
  {
   "cell_type": "code",
   "execution_count": 82,
   "metadata": {},
   "outputs": [],
   "source": [
    "def create_multi_resolution_data(df, min_resolution, max_resolution):\n",
    "    multi_res_list = []\n",
    "    \n",
    "    for res in range(min_resolution, max_resolution + 1):\n",
    "        df_res = df.copy()\n",
    "        df_res['h3_parent'] = df_res['h3'].apply(lambda x: h3.h3_to_parent(x, res))\n",
    "        df_res = df_res.groupby('h3_parent').agg({\n",
    "            'population': 'sum',\n",
    "            'lat': 'mean',\n",
    "            'lon': 'mean'\n",
    "        }).reset_index()\n",
    "        df_res['resolution'] = res\n",
    "        multi_res_list.append(df_res)\n",
    "    \n",
    "    # Concatenate all the results into a single DataFrame\n",
    "    final_df = pd.concat(multi_res_list, ignore_index=True)\n",
    "    return final_df"
   ]
  },
  {
   "cell_type": "code",
   "execution_count": 83,
   "metadata": {},
   "outputs": [],
   "source": [
    "population_df_all_res = create_multi_resolution_data(gdf, min_resolution=3, max_resolution=8)"
   ]
  },
  {
   "cell_type": "code",
   "execution_count": 84,
   "metadata": {},
   "outputs": [
    {
     "data": {
      "text/html": [
       "<div>\n",
       "<style scoped>\n",
       "    .dataframe tbody tr th:only-of-type {\n",
       "        vertical-align: middle;\n",
       "    }\n",
       "\n",
       "    .dataframe tbody tr th {\n",
       "        vertical-align: top;\n",
       "    }\n",
       "\n",
       "    .dataframe thead th {\n",
       "        text-align: right;\n",
       "    }\n",
       "</style>\n",
       "<table border=\"1\" class=\"dataframe\">\n",
       "  <thead>\n",
       "    <tr style=\"text-align: right;\">\n",
       "      <th></th>\n",
       "      <th>h3_parent</th>\n",
       "      <th>population</th>\n",
       "      <th>lat</th>\n",
       "      <th>lon</th>\n",
       "      <th>resolution</th>\n",
       "    </tr>\n",
       "  </thead>\n",
       "  <tbody>\n",
       "    <tr>\n",
       "      <th>0</th>\n",
       "      <td>836a58fffffffff</td>\n",
       "      <td>99573.0</td>\n",
       "      <td>4.308406</td>\n",
       "      <td>34.592590</td>\n",
       "      <td>3</td>\n",
       "    </tr>\n",
       "    <tr>\n",
       "      <th>1</th>\n",
       "      <td>836a59fffffffff</td>\n",
       "      <td>87552.0</td>\n",
       "      <td>4.296055</td>\n",
       "      <td>35.546925</td>\n",
       "      <td>3</td>\n",
       "    </tr>\n",
       "    <tr>\n",
       "      <th>2</th>\n",
       "      <td>836a5afffffffff</td>\n",
       "      <td>1932.0</td>\n",
       "      <td>3.747018</td>\n",
       "      <td>34.261742</td>\n",
       "      <td>3</td>\n",
       "    </tr>\n",
       "    <tr>\n",
       "      <th>3</th>\n",
       "      <td>836a5bfffffffff</td>\n",
       "      <td>227074.0</td>\n",
       "      <td>3.388549</td>\n",
       "      <td>35.023266</td>\n",
       "      <td>3</td>\n",
       "    </tr>\n",
       "    <tr>\n",
       "      <th>4</th>\n",
       "      <td>836a5dfffffffff</td>\n",
       "      <td>1.0</td>\n",
       "      <td>4.616663</td>\n",
       "      <td>35.183819</td>\n",
       "      <td>3</td>\n",
       "    </tr>\n",
       "  </tbody>\n",
       "</table>\n",
       "</div>"
      ],
      "text/plain": [
       "         h3_parent  population       lat        lon  resolution\n",
       "0  836a58fffffffff     99573.0  4.308406  34.592590           3\n",
       "1  836a59fffffffff     87552.0  4.296055  35.546925           3\n",
       "2  836a5afffffffff      1932.0  3.747018  34.261742           3\n",
       "3  836a5bfffffffff    227074.0  3.388549  35.023266           3\n",
       "4  836a5dfffffffff         1.0  4.616663  35.183819           3"
      ]
     },
     "execution_count": 84,
     "metadata": {},
     "output_type": "execute_result"
    }
   ],
   "source": [
    "population_df_all_res.head()"
   ]
  },
  {
   "cell_type": "code",
   "execution_count": 72,
   "metadata": {},
   "outputs": [
    {
     "data": {
      "text/html": [
       "<div>\n",
       "<style scoped>\n",
       "    .dataframe tbody tr th:only-of-type {\n",
       "        vertical-align: middle;\n",
       "    }\n",
       "\n",
       "    .dataframe tbody tr th {\n",
       "        vertical-align: top;\n",
       "    }\n",
       "\n",
       "    .dataframe thead th {\n",
       "        text-align: right;\n",
       "    }\n",
       "</style>\n",
       "<table border=\"1\" class=\"dataframe\">\n",
       "  <thead>\n",
       "    <tr style=\"text-align: right;\">\n",
       "      <th></th>\n",
       "      <th>3</th>\n",
       "      <th>4</th>\n",
       "      <th>5</th>\n",
       "      <th>6</th>\n",
       "      <th>7</th>\n",
       "      <th>8</th>\n",
       "    </tr>\n",
       "  </thead>\n",
       "  <tbody>\n",
       "    <tr>\n",
       "      <th>0</th>\n",
       "      <td>h3_parent  population       lat     ...</td>\n",
       "      <td>h3_parent  population       lat    ...</td>\n",
       "      <td>h3_parent  population       lat   ...</td>\n",
       "      <td>h3_parent  population       lat  ...</td>\n",
       "      <td>h3_parent  population       lat  ...</td>\n",
       "      <td>h3_parent  population       lat ...</td>\n",
       "    </tr>\n",
       "  </tbody>\n",
       "</table>\n",
       "</div>"
      ],
      "text/plain": [
       "                                                   3  \\\n",
       "0            h3_parent  population       lat     ...   \n",
       "\n",
       "                                                   4  \\\n",
       "0             h3_parent  population       lat    ...   \n",
       "\n",
       "                                                   5  \\\n",
       "0              h3_parent  population       lat   ...   \n",
       "\n",
       "                                                   6  \\\n",
       "0               h3_parent  population       lat  ...   \n",
       "\n",
       "                                                   7  \\\n",
       "0               h3_parent  population       lat  ...   \n",
       "\n",
       "                                                   8  \n",
       "0                h3_parent  population       lat ...  "
      ]
     },
     "execution_count": 72,
     "metadata": {},
     "output_type": "execute_result"
    }
   ],
   "source": [
    "population_df_all_res.head()"
   ]
  },
  {
   "cell_type": "code",
   "execution_count": 58,
   "metadata": {},
   "outputs": [
    {
     "data": {
      "text/html": [
       "<div>\n",
       "<style scoped>\n",
       "    .dataframe tbody tr th:only-of-type {\n",
       "        vertical-align: middle;\n",
       "    }\n",
       "\n",
       "    .dataframe tbody tr th {\n",
       "        vertical-align: top;\n",
       "    }\n",
       "\n",
       "    .dataframe thead th {\n",
       "        text-align: right;\n",
       "    }\n",
       "</style>\n",
       "<table border=\"1\" class=\"dataframe\">\n",
       "  <thead>\n",
       "    <tr style=\"text-align: right;\">\n",
       "      <th></th>\n",
       "      <th>h3</th>\n",
       "      <th>population</th>\n",
       "      <th>geometry</th>\n",
       "    </tr>\n",
       "  </thead>\n",
       "  <tbody>\n",
       "    <tr>\n",
       "      <th>0</th>\n",
       "      <td>887b5bb76dfffff</td>\n",
       "      <td>214.0</td>\n",
       "      <td>POLYGON ((40.16069 -3.06811, 40.16236 -3.06346...</td>\n",
       "    </tr>\n",
       "    <tr>\n",
       "      <th>1</th>\n",
       "      <td>887b5bb76bfffff</td>\n",
       "      <td>1150.0</td>\n",
       "      <td>POLYGON ((40.14594 -3.07034, 40.14761 -3.06568...</td>\n",
       "    </tr>\n",
       "    <tr>\n",
       "      <th>2</th>\n",
       "      <td>887b5bb769fffff</td>\n",
       "      <td>209.0</td>\n",
       "      <td>POLYGON ((40.1541 -3.07351, 40.15577 -3.06885,...</td>\n",
       "    </tr>\n",
       "    <tr>\n",
       "      <th>3</th>\n",
       "      <td>887b5bb765fffff</td>\n",
       "      <td>237.0</td>\n",
       "      <td>POLYGON ((40.15911 -3.05954, 40.16078 -3.05489...</td>\n",
       "    </tr>\n",
       "    <tr>\n",
       "      <th>4</th>\n",
       "      <td>887b5bb763fffff</td>\n",
       "      <td>359.0</td>\n",
       "      <td>POLYGON ((40.14436 -3.06177, 40.14603 -3.05711...</td>\n",
       "    </tr>\n",
       "  </tbody>\n",
       "</table>\n",
       "</div>"
      ],
      "text/plain": [
       "                h3  population  \\\n",
       "0  887b5bb76dfffff       214.0   \n",
       "1  887b5bb76bfffff      1150.0   \n",
       "2  887b5bb769fffff       209.0   \n",
       "3  887b5bb765fffff       237.0   \n",
       "4  887b5bb763fffff       359.0   \n",
       "\n",
       "                                            geometry  \n",
       "0  POLYGON ((40.16069 -3.06811, 40.16236 -3.06346...  \n",
       "1  POLYGON ((40.14594 -3.07034, 40.14761 -3.06568...  \n",
       "2  POLYGON ((40.1541 -3.07351, 40.15577 -3.06885,...  \n",
       "3  POLYGON ((40.15911 -3.05954, 40.16078 -3.05489...  \n",
       "4  POLYGON ((40.14436 -3.06177, 40.14603 -3.05711...  "
      ]
     },
     "execution_count": 58,
     "metadata": {},
     "output_type": "execute_result"
    }
   ],
   "source": [
    "gdf_wgs84.head()"
   ]
  },
  {
   "cell_type": "code",
   "execution_count": 48,
   "metadata": {},
   "outputs": [
    {
     "name": "stderr",
     "output_type": "stream",
     "text": [
      "/var/folders/b7/2dqsctv50sbgk3bg9gpz453c0000gn/T/ipykernel_11395/3746511912.py:1: UserWarning: Geometry is in a geographic CRS. Results from 'centroid' are likely incorrect. Use 'GeoSeries.to_crs()' to re-project geometries to a projected CRS before this operation.\n",
      "\n",
      "  gdf['longitude'] = gdf_wgs84.geometry.centroid.x\n",
      "/var/folders/b7/2dqsctv50sbgk3bg9gpz453c0000gn/T/ipykernel_11395/3746511912.py:2: UserWarning: Geometry is in a geographic CRS. Results from 'centroid' are likely incorrect. Use 'GeoSeries.to_crs()' to re-project geometries to a projected CRS before this operation.\n",
      "\n",
      "  gdf['latitude'] = gdf_wgs84.geometry.centroid.y\n"
     ]
    }
   ],
   "source": [
    "gdf['longitude'] = gdf_wgs84.geometry.centroid.x\n",
    "gdf['latitude'] = gdf_wgs84.geometry.centroid.y"
   ]
  },
  {
   "cell_type": "code",
   "execution_count": 50,
   "metadata": {},
   "outputs": [
    {
     "data": {
      "text/html": [
       "<div>\n",
       "<style scoped>\n",
       "    .dataframe tbody tr th:only-of-type {\n",
       "        vertical-align: middle;\n",
       "    }\n",
       "\n",
       "    .dataframe tbody tr th {\n",
       "        vertical-align: top;\n",
       "    }\n",
       "\n",
       "    .dataframe thead th {\n",
       "        text-align: right;\n",
       "    }\n",
       "</style>\n",
       "<table border=\"1\" class=\"dataframe\">\n",
       "  <thead>\n",
       "    <tr style=\"text-align: right;\">\n",
       "      <th></th>\n",
       "      <th>geometry</th>\n",
       "      <th>longitude</th>\n",
       "      <th>latitude</th>\n",
       "    </tr>\n",
       "  </thead>\n",
       "  <tbody>\n",
       "    <tr>\n",
       "      <th>0</th>\n",
       "      <td>POLYGON ((41.90708 -4.68042, 41.90708 5.03375,...</td>\n",
       "      <td>37.908333</td>\n",
       "      <td>0.176667</td>\n",
       "    </tr>\n",
       "  </tbody>\n",
       "</table>\n",
       "</div>"
      ],
      "text/plain": [
       "                                            geometry  longitude  latitude\n",
       "0  POLYGON ((41.90708 -4.68042, 41.90708 5.03375,...  37.908333  0.176667"
      ]
     },
     "execution_count": 50,
     "metadata": {},
     "output_type": "execute_result"
    }
   ],
   "source": [
    "gdf.head(15)"
   ]
  },
  {
   "cell_type": "code",
   "execution_count": 51,
   "metadata": {},
   "outputs": [],
   "source": [
    "gdf['latitude'] = gdf['latitude'].astype('float32')\n",
    "gdf['longitude'] = gdf['longitude'].astype('float32')"
   ]
  },
  {
   "cell_type": "code",
   "execution_count": 52,
   "metadata": {},
   "outputs": [
    {
     "data": {
      "text/html": [
       "<div>\n",
       "<style scoped>\n",
       "    .dataframe tbody tr th:only-of-type {\n",
       "        vertical-align: middle;\n",
       "    }\n",
       "\n",
       "    .dataframe tbody tr th {\n",
       "        vertical-align: top;\n",
       "    }\n",
       "\n",
       "    .dataframe thead th {\n",
       "        text-align: right;\n",
       "    }\n",
       "</style>\n",
       "<table border=\"1\" class=\"dataframe\">\n",
       "  <thead>\n",
       "    <tr style=\"text-align: right;\">\n",
       "      <th></th>\n",
       "      <th>geometry</th>\n",
       "      <th>longitude</th>\n",
       "      <th>latitude</th>\n",
       "    </tr>\n",
       "  </thead>\n",
       "  <tbody>\n",
       "    <tr>\n",
       "      <th>0</th>\n",
       "      <td>POLYGON ((41.90708 -4.68042, 41.90708 5.03375,...</td>\n",
       "      <td>37.908333</td>\n",
       "      <td>0.176667</td>\n",
       "    </tr>\n",
       "  </tbody>\n",
       "</table>\n",
       "</div>"
      ],
      "text/plain": [
       "                                            geometry  longitude  latitude\n",
       "0  POLYGON ((41.90708 -4.68042, 41.90708 5.03375,...  37.908333  0.176667"
      ]
     },
     "execution_count": 52,
     "metadata": {},
     "output_type": "execute_result"
    }
   ],
   "source": [
    "gdf.head()"
   ]
  },
  {
   "cell_type": "code",
   "execution_count": 3,
   "metadata": {},
   "outputs": [
    {
     "data": {
      "text/plain": [
       "Index(['h3', 'population', 'geometry'], dtype='object')"
      ]
     },
     "execution_count": 3,
     "metadata": {},
     "output_type": "execute_result"
    }
   ],
   "source": [
    "gdf.columns"
   ]
  },
  {
   "cell_type": "code",
   "execution_count": 44,
   "metadata": {},
   "outputs": [
    {
     "data": {
      "text/plain": [
       "<Projected CRS: EPSG:3857>\n",
       "Name: WGS 84 / Pseudo-Mercator\n",
       "Axis Info [cartesian]:\n",
       "- X[east]: Easting (metre)\n",
       "- Y[north]: Northing (metre)\n",
       "Area of Use:\n",
       "- name: World between 85.06°S and 85.06°N.\n",
       "- bounds: (-180.0, -85.06, 180.0, 85.06)\n",
       "Coordinate Operation:\n",
       "- name: Popular Visualisation Pseudo-Mercator\n",
       "- method: Popular Visualisation Pseudo Mercator\n",
       "Datum: World Geodetic System 1984 ensemble\n",
       "- Ellipsoid: WGS 84\n",
       "- Prime Meridian: Greenwich"
      ]
     },
     "execution_count": 44,
     "metadata": {},
     "output_type": "execute_result"
    }
   ],
   "source": [
    "gdf.crs"
   ]
  },
  {
   "cell_type": "markdown",
   "metadata": {},
   "source": [
    "Currently the gdf (population data is in epsg:3857), but the age demographics data are in CRS.from_epsg(4326)"
   ]
  },
  {
   "cell_type": "code",
   "execution_count": 28,
   "metadata": {},
   "outputs": [
    {
     "data": {
      "text/html": [
       "<div>\n",
       "<style scoped>\n",
       "    .dataframe tbody tr th:only-of-type {\n",
       "        vertical-align: middle;\n",
       "    }\n",
       "\n",
       "    .dataframe tbody tr th {\n",
       "        vertical-align: top;\n",
       "    }\n",
       "\n",
       "    .dataframe thead th {\n",
       "        text-align: right;\n",
       "    }\n",
       "</style>\n",
       "<table border=\"1\" class=\"dataframe\">\n",
       "  <thead>\n",
       "    <tr style=\"text-align: right;\">\n",
       "      <th></th>\n",
       "      <th>h3</th>\n",
       "      <th>population</th>\n",
       "      <th>geometry</th>\n",
       "    </tr>\n",
       "  </thead>\n",
       "  <tbody>\n",
       "    <tr>\n",
       "      <th>0</th>\n",
       "      <td>887b5bb76dfffff</td>\n",
       "      <td>214.0</td>\n",
       "      <td>POLYGON ((4470667.403 -341703.95, 4470853.105 ...</td>\n",
       "    </tr>\n",
       "    <tr>\n",
       "      <th>1</th>\n",
       "      <td>887b5bb76bfffff</td>\n",
       "      <td>1150.0</td>\n",
       "      <td>POLYGON ((4469025.536 -341952.142, 4469211.29 ...</td>\n",
       "    </tr>\n",
       "    <tr>\n",
       "      <th>2</th>\n",
       "      <td>887b5bb769fffff</td>\n",
       "      <td>209.0</td>\n",
       "      <td>POLYGON ((4469934.407 -342305.718, 4470120.135...</td>\n",
       "    </tr>\n",
       "    <tr>\n",
       "      <th>3</th>\n",
       "      <td>887b5bb765fffff</td>\n",
       "      <td>237.0</td>\n",
       "      <td>POLYGON ((4470491.565 -340748.674, 4470677.266...</td>\n",
       "    </tr>\n",
       "    <tr>\n",
       "      <th>4</th>\n",
       "      <td>887b5bb763fffff</td>\n",
       "      <td>359.0</td>\n",
       "      <td>POLYGON ((4468849.737 -340996.802, 4469035.49 ...</td>\n",
       "    </tr>\n",
       "  </tbody>\n",
       "</table>\n",
       "</div>"
      ],
      "text/plain": [
       "                h3  population  \\\n",
       "0  887b5bb76dfffff       214.0   \n",
       "1  887b5bb76bfffff      1150.0   \n",
       "2  887b5bb769fffff       209.0   \n",
       "3  887b5bb765fffff       237.0   \n",
       "4  887b5bb763fffff       359.0   \n",
       "\n",
       "                                            geometry  \n",
       "0  POLYGON ((4470667.403 -341703.95, 4470853.105 ...  \n",
       "1  POLYGON ((4469025.536 -341952.142, 4469211.29 ...  \n",
       "2  POLYGON ((4469934.407 -342305.718, 4470120.135...  \n",
       "3  POLYGON ((4470491.565 -340748.674, 4470677.266...  \n",
       "4  POLYGON ((4468849.737 -340996.802, 4469035.49 ...  "
      ]
     },
     "execution_count": 28,
     "metadata": {},
     "output_type": "execute_result"
    }
   ],
   "source": [
    "gdf.head()"
   ]
  },
  {
   "cell_type": "code",
   "execution_count": 34,
   "metadata": {},
   "outputs": [
    {
     "name": "stdout",
     "output_type": "stream",
     "text": [
      "                h3  population  \\\n",
      "0  887b5bb76dfffff       214.0   \n",
      "1  887b5bb76bfffff      1150.0   \n",
      "2  887b5bb769fffff       209.0   \n",
      "3  887b5bb765fffff       237.0   \n",
      "4  887b5bb763fffff       359.0   \n",
      "\n",
      "                                            geometry  resolution  \n",
      "0  POLYGON ((4470667.403 -341703.95, 4470853.105 ...           8  \n",
      "1  POLYGON ((4469025.536 -341952.142, 4469211.29 ...           8  \n",
      "2  POLYGON ((4469934.407 -342305.718, 4470120.135...           8  \n",
      "3  POLYGON ((4470491.565 -340748.674, 4470677.266...           8  \n",
      "4  POLYGON ((4468849.737 -340996.802, 4469035.49 ...           8  \n"
     ]
    }
   ],
   "source": [
    "gdf['resolution'] = gdf['h3'].apply(lambda value: h3.h3_get_resolution(value))\n",
    "\n",
    "print(gdf.head())"
   ]
  },
  {
   "cell_type": "code",
   "execution_count": 43,
   "metadata": {},
   "outputs": [
    {
     "data": {
      "text/plain": [
       "Index(['h3', 'population', 'geometry', 'resolution'], dtype='object')"
      ]
     },
     "execution_count": 43,
     "metadata": {},
     "output_type": "execute_result"
    }
   ],
   "source": [
    "gdf.columns"
   ]
  },
  {
   "cell_type": "code",
   "execution_count": 21,
   "metadata": {},
   "outputs": [
    {
     "data": {
      "text/plain": [
       "1"
      ]
     },
     "execution_count": 21,
     "metadata": {},
     "output_type": "execute_result"
    }
   ],
   "source": [
    "gdf['resolution'].nunique()"
   ]
  },
  {
   "cell_type": "code",
   "execution_count": 4,
   "metadata": {},
   "outputs": [],
   "source": [
    "gdf.columns = gdf.columns.str.strip()\n",
    "# gdf = gdf.head(1000)"
   ]
  },
  {
   "cell_type": "code",
   "execution_count": 7,
   "metadata": {},
   "outputs": [],
   "source": [
    "def hexagons_dataframe_to_geojson(df_hex, file_output = None, column_name = \"population\"):\n",
    "    \"\"\"\n",
    "    Produce the GeoJSON for a dataframe, constructing the geometry from the \"hex_id\" column\n",
    "    and with a property matching the one in column_name\n",
    "    \"\"\"    \n",
    "    list_features = []\n",
    "    \n",
    "    for i,row in df_hex.iterrows():\n",
    "        try:\n",
    "            geometry_for_row = { \"type\" : \"Polygon\", \"coordinates\": [h3.h3_to_geo_boundary(h=row[\"h3\"],geo_json=True)]}\n",
    "            feature = Feature(geometry = geometry_for_row , id=row[\"h3\"], properties = {column_name : row[column_name]})\n",
    "            list_features.append(feature)\n",
    "        except:\n",
    "            print(\"An exception occurred for hex \" + row[\"h3\"]) \n",
    "\n",
    "    feat_collection = FeatureCollection(list_features)\n",
    "    geojson_result = json.dumps(feat_collection)\n",
    "    return geojson_result"
   ]
  },
  {
   "cell_type": "code",
   "execution_count": 35,
   "metadata": {},
   "outputs": [],
   "source": [
    "geojson_res = hexagons_dataframe_to_geojson(gdf)"
   ]
  },
  {
   "cell_type": "code",
   "execution_count": 11,
   "metadata": {},
   "outputs": [],
   "source": [
    "from folium.plugins import FastMarkerCluster"
   ]
  },
  {
   "cell_type": "code",
   "execution_count": 12,
   "metadata": {},
   "outputs": [],
   "source": [
    "def choropleth_map(df_aggreg, border_color = 'black', fill_opacity = 0.7, initial_map = None, with_legend = False,\n",
    "                   kind = \"linear\"):   \n",
    "    #colormap\n",
    "    min_value = df_aggreg[\"population\"].min()\n",
    "    max_value = df_aggreg[\"population\"].max()\n",
    "    m = round ((min_value + max_value ) / 2 , 0)\n",
    "    \n",
    "    #take resolution from the first row\n",
    "    res = h3.h3_get_resolution(df_aggreg.loc[0, 'h3'])\n",
    "    \n",
    "    if initial_map is None:\n",
    "        initial_map = Map(location= [-1.286389, 36.817223], zoom_start=6, tiles=\"cartodbpositron\", \n",
    "                attr= '© <a href=\"http://www.openstreetmap.org/copyright\">OpenStreetMap</a> contributors © <a href=\"http://cartodb.com/attributions#basemaps\">CartoDB</a>' \n",
    "            )\n",
    "        \n",
    "\n",
    "    #the colormap \n",
    "    #color names accepted https://github.com/python-visualization/branca/blob/master/branca/_cnames.json\n",
    "    if kind == \"linear\":\n",
    "        custom_cm = cm.LinearColormap(['green','yellow','red'], vmin=min_value, vmax=max_value)\n",
    "    elif kind == \"outlier\":\n",
    "        #for outliers, values would be -11,0,1\n",
    "        custom_cm = cm.LinearColormap(['blue','white','red'], vmin=min_value, vmax=max_value)\n",
    "    elif kind == \"filled_nulls\":\n",
    "        custom_cm = cm.LinearColormap(['sienna','green','yellow','red'], \n",
    "                                      index=[0,min_value,m,max_value],vmin=min_value,vmax=max_value)\n",
    "   \n",
    "\n",
    "    #create geojson data from dataframe\n",
    "    geojson_data = hexagons_dataframe_to_geojson(df_hex = df_aggreg)\n",
    "    \n",
    "    #plot on map\n",
    "    name_layer = \"Choropleth \" + str(res)\n",
    "    if kind != \"linear\":\n",
    "        name_layer = name_layer + kind\n",
    "        \n",
    "    GeoJson(\n",
    "        geojson_data,\n",
    "        style_function = lambda feature: {\n",
    "            'fillColor': custom_cm(feature['properties']['population']),\n",
    "            'color': border_color,\n",
    "            'weight': 1,\n",
    "            'Highlight': True,\n",
    "            'fillOpacity': fill_opacity \n",
    "        }, \n",
    "        name = name_layer\n",
    "    ).add_to(initial_map)\n",
    "\n",
    "    #add legend (not recommended if multiple layers)\n",
    "    if with_legend == True:\n",
    "        custom_cm.add_to(initial_map)   \n",
    "    \n",
    "    \n",
    "    return initial_map"
   ]
  },
  {
   "cell_type": "code",
   "execution_count": 13,
   "metadata": {},
   "outputs": [],
   "source": [
    "hexmap = choropleth_map(df_aggreg = gdf[:100], with_legend = True, kind = \"filled_nulls\") "
   ]
  },
  {
   "cell_type": "code",
   "execution_count": 17,
   "metadata": {},
   "outputs": [
    {
     "name": "stderr",
     "output_type": "stream",
     "text": [
      "2024-11-04 21:58:59.671 Thread 'MainThread': missing ScriptRunContext! This warning can be ignored when running in bare mode.\n",
      "2024-11-04 21:58:59.673 Thread 'MainThread': missing ScriptRunContext! This warning can be ignored when running in bare mode.\n",
      "2024-11-04 21:58:59.674 Thread 'MainThread': missing ScriptRunContext! This warning can be ignored when running in bare mode.\n",
      "2024-11-04 21:58:59.675 Thread 'MainThread': missing ScriptRunContext! This warning can be ignored when running in bare mode.\n",
      "2024-11-04 21:58:59.675 Thread 'MainThread': missing ScriptRunContext! This warning can be ignored when running in bare mode.\n",
      "2024-11-04 21:58:59.676 Thread 'MainThread': missing ScriptRunContext! This warning can be ignored when running in bare mode.\n",
      "2024-11-04 21:58:59.677 Thread 'MainThread': missing ScriptRunContext! This warning can be ignored when running in bare mode.\n",
      "2024-11-04 21:58:59.678 Thread 'MainThread': missing ScriptRunContext! This warning can be ignored when running in bare mode.\n",
      "2024-11-04 21:58:59.679 Thread 'MainThread': missing ScriptRunContext! This warning can be ignored when running in bare mode.\n",
      "2024-11-04 21:58:59.679 Thread 'MainThread': missing ScriptRunContext! This warning can be ignored when running in bare mode.\n",
      "2024-11-04 21:58:59.680 Thread 'MainThread': missing ScriptRunContext! This warning can be ignored when running in bare mode.\n",
      "2024-11-04 21:58:59.681 Session state does not function when running a script without `streamlit run`\n",
      "2024-11-04 21:58:59.681 Thread 'MainThread': missing ScriptRunContext! This warning can be ignored when running in bare mode.\n",
      "2024-11-04 21:58:59.681 Thread 'MainThread': missing ScriptRunContext! This warning can be ignored when running in bare mode.\n",
      "2024-11-04 21:58:59.682 Thread 'MainThread': missing ScriptRunContext! This warning can be ignored when running in bare mode.\n",
      "2024-11-04 21:58:59.682 Thread 'MainThread': missing ScriptRunContext! This warning can be ignored when running in bare mode.\n",
      "2024-11-04 21:58:59.683 Thread 'MainThread': missing ScriptRunContext! This warning can be ignored when running in bare mode.\n",
      "2024-11-04 21:58:59.683 Thread 'MainThread': missing ScriptRunContext! This warning can be ignored when running in bare mode.\n",
      "2024-11-04 21:58:59.683 Thread 'MainThread': missing ScriptRunContext! This warning can be ignored when running in bare mode.\n",
      "2024-11-04 21:58:59.684 Thread 'MainThread': missing ScriptRunContext! This warning can be ignored when running in bare mode.\n",
      "2024-11-04 21:58:59.684 Thread 'MainThread': missing ScriptRunContext! This warning can be ignored when running in bare mode.\n",
      "2024-11-04 21:58:59.685 Thread 'MainThread': missing ScriptRunContext! This warning can be ignored when running in bare mode.\n",
      "2024-11-04 21:58:59.685 Thread 'MainThread': missing ScriptRunContext! This warning can be ignored when running in bare mode.\n",
      "/var/folders/b7/2dqsctv50sbgk3bg9gpz453c0000gn/T/ipykernel_11395/3620419120.py:10: DeprecationWarning: \n",
      "folium_static is deprecated and will be removed in a future release, or\n",
      "simply replaced with with st_folium which always passes\n",
      "returned_objects=[] to the component.\n",
      "Please try using st_folium instead, and\n",
      "post an issue at https://github.com/randyzwitch/streamlit-folium/issues\n",
      "if you experience issues with st_folium.\n",
      "\n",
      "  folium_static(hexmap)\n",
      "2024-11-04 21:58:59.791 Thread 'MainThread': missing ScriptRunContext! This warning can be ignored when running in bare mode.\n",
      "2024-11-04 21:58:59.791 Thread 'MainThread': missing ScriptRunContext! This warning can be ignored when running in bare mode.\n"
     ]
    },
    {
     "data": {
      "text/plain": [
       "DeltaGenerator()"
      ]
     },
     "execution_count": 17,
     "metadata": {},
     "output_type": "execute_result"
    }
   ],
   "source": [
    "# Sidebar controls\n",
    "st.sidebar.header(\"Map Controls\")\n",
    "num_hexagons = st.sidebar.slider(\"Number of hexagons to display\", 100, len(gdf), 1000)\n",
    "kind = st.sidebar.selectbox(\"Color scheme\", [\"linear\", \"outlier\", \"filled_nulls\"])\n",
    "with_legend = st.sidebar.checkbox(\"Show legend\", value=True)\n",
    "\n",
    "# Create and display map\n",
    "st.write(f\"Displaying {num_hexagons} hexagons\")\n",
    "hexmap = choropleth_map(df_aggreg=gdf[:num_hexagons], with_legend=with_legend, kind=kind)\n",
    "folium_static(hexmap)"
   ]
  },
  {
   "cell_type": "code",
   "execution_count": 3,
   "metadata": {},
   "outputs": [
    {
     "name": "stdout",
     "output_type": "stream",
     "text": [
      "===============\n",
      "{'driver': 'GTiff', 'dtype': 'float32', 'nodata': -3.3999999521443642e+38, 'width': 9597, 'height': 11657, 'count': 1, 'crs': CRS.from_epsg(4326), 'transform': Affine(0.000833333329998958, 0.0, 33.909583213,\n",
      "       0.0, -0.0008333333300162993, 5.033750181)}\n",
      "===============\n",
      "\n",
      "\n",
      "Shape: (11657, 9597)\n",
      "Data type: float32\n",
      "Minimum value: -3.3999999521443642e+38\n",
      "Maximum value: 16.674135208129883\n",
      "Mean value: -inf\n"
     ]
    },
    {
     "name": "stderr",
     "output_type": "stream",
     "text": [
      "/Users/ahmedboutar/Desktop/Duke/Fall2024/AIPI510/dataset-project/mapping-for-economic-development/venv/lib/python3.9/site-packages/numpy/core/_methods.py:181: RuntimeWarning: overflow encountered in reduce\n",
      "  ret = umr_sum(arr, axis, dtype, out, keepdims, where=where)\n"
     ]
    },
    {
     "data": {
      "image/png": "[encoded data removed]",
      "text/plain": [
       "<Figure size 1200x800 with 1 Axes>"
      ]
     },
     "metadata": {},
     "output_type": "display_data"
    },
    {
     "name": "stdout",
     "output_type": "stream",
     "text": [
      "Bounding Box: BoundingBox(left=33.909583213, bottom=-4.680416447000001, right=41.907083181, top=5.033750181)\n",
      "Total population: 703445.9375\n"
     ]
    }
   ],
   "source": [
    "import rasterio\n",
    "\n",
    "\n",
    "import rasterio\n",
    "import rasterio\n",
    "import numpy as np\n",
    "import matplotlib.pyplot as plt\n",
    "from rasterio.plot import show\n",
    "import geopandas as gpd\n",
    "from shapely.geometry import box\n",
    "\n",
    "# Open the GeoTIFF file\n",
    "with rasterio.open('../data/KEN_population_v2_0_agesex/KEN_population_v2_0_agesex_f0.tif') as src:\n",
    "    # Read the data\n",
    "    band1 = src.read(1)\n",
    "    \n",
    "    # Get metadata\n",
    "    meta = src.meta\n",
    "    print(\"=\"*15)\n",
    "    print(meta)\n",
    "    print(\"=\"*15)\n",
    "    print('\\n')\n",
    "\n",
    "    \n",
    "    # Print basic information\n",
    "    print(f\"Shape: {band1.shape}\")\n",
    "    print(f\"Data type: {band1.dtype}\")\n",
    "    print(f\"Minimum value: {np.min(band1)}\")\n",
    "    print(f\"Maximum value: {np.max(band1)}\")\n",
    "    print(f\"Mean value: {np.mean(band1)}\")\n",
    "    \n",
    "    # Create a simple visualization\n",
    "    plt.figure(figsize=(12, 8))\n",
    "    show(band1, cmap='viridis', title='Population Distribution')\n",
    "    # plt.colorbar(label='Population')\n",
    "    # plt.show()\n",
    "    \n",
    "    # Get the bounding box\n",
    "    bounds = src.bounds\n",
    "    bbox = box(*bounds)\n",
    "    \n",
    "    # Create a GeoDataFrame from the bounding box\n",
    "    gdf = gpd.GeoDataFrame({'geometry': [bbox]}, crs=src.crs)\n",
    "    \n",
    "    # Print the bounding box coordinates\n",
    "    print(f\"Bounding Box: {bounds}\")\n",
    "\n",
    "# Calculate total population\n",
    "with rasterio.open('../data/KEN_population_v2_0_agesex/KEN_population_v2_0_agesex_f0.tif') as src:\n",
    "    band1 = src.read(1)\n",
    "    total_population = np.sum(band1[band1 != src.nodata])\n",
    "    print(f\"Total population: {total_population}\")\n",
    "\n",
    "    "
   ]
  },
  {
   "cell_type": "markdown",
   "metadata": {},
   "source": [
    "Source: https://wopr.worldpop.org/?KEN/Population"
   ]
  },
  {
   "cell_type": "code",
   "execution_count": 2,
   "metadata": {},
   "outputs": [
    {
     "ename": "KeyboardInterrupt",
     "evalue": "",
     "output_type": "error",
     "traceback": [
      "\u001b[0;31m---------------------------------------------------------------------------\u001b[0m",
      "\u001b[0;31mKeyboardInterrupt\u001b[0m                         Traceback (most recent call last)",
      "Cell \u001b[0;32mIn[2], line 23\u001b[0m\n\u001b[1;32m     20\u001b[0m population_value \u001b[38;5;241m=\u001b[39m band1[row, col]\n\u001b[1;32m     22\u001b[0m \u001b[38;5;66;03m# Skip no-data values if necessary (depending on your raster)\u001b[39;00m\n\u001b[0;32m---> 23\u001b[0m \u001b[38;5;28;01mif\u001b[39;00m \u001b[43mpopulation_value\u001b[49m\u001b[43m \u001b[49m\u001b[38;5;241;43m!=\u001b[39;49m\u001b[43m \u001b[49m\u001b[43msrc\u001b[49m\u001b[38;5;241;43m.\u001b[39;49m\u001b[43mnodata\u001b[49m:\n\u001b[1;32m     24\u001b[0m     \u001b[38;5;66;03m# Convert pixel coordinates to geographic coordinates\u001b[39;00m\n\u001b[1;32m     25\u001b[0m     lon, lat \u001b[38;5;241m=\u001b[39m transform \u001b[38;5;241m*\u001b[39m (col, row)  \u001b[38;5;66;03m# (x, y) = (col, row)\u001b[39;00m\n\u001b[1;32m     27\u001b[0m     \u001b[38;5;66;03m# Append the data as a tuple\u001b[39;00m\n",
      "\u001b[0;31mKeyboardInterrupt\u001b[0m: "
     ]
    }
   ],
   "source": [
    "import rasterio\n",
    "import pandas as pd\n",
    "import numpy as np\n",
    "\n",
    "# Open the raster file\n",
    "with rasterio.open('../data/KEN_population_v2_0_agesex/KEN_population_v2_0_agesex_f0.tif') as src:\n",
    "    band1 = src.read(1)  # Read the first band (population data)\n",
    "    transform = src.transform  # Get the affine transformation\n",
    "\n",
    "# Prepare a list to hold the data\n",
    "data = []\n",
    "\n",
    "# Get dimensions of the raster\n",
    "height, width = band1.shape\n",
    "\n",
    "# Loop through each pixel in the raster\n",
    "for row in range(height):\n",
    "    for col in range(width):\n",
    "        # Get the population value for this pixel\n",
    "        population_value = band1[row, col]\n",
    "\n",
    "        # Skip no-data values if necessary (depending on your raster)\n",
    "        if population_value != src.nodata:\n",
    "            # Convert pixel coordinates to geographic coordinates\n",
    "            lon, lat = transform * (col, row)  # (x, y) = (col, row)\n",
    "\n",
    "            # Append the data as a tuple\n",
    "            data.append((population_value, lon, lat))\n",
    "\n",
    "# Create a DataFrame\n",
    "df_population = pd.DataFrame(data, columns=['population_f0', 'lon', 'lat'])\n",
    "\n",
    "# Optionally, reset the index\n",
    "df_population.reset_index(drop=True, inplace=True)\n",
    "\n",
    "# Display the DataFrame"
   ]
  },
  {
   "cell_type": "code",
   "execution_count": 39,
   "metadata": {},
   "outputs": [
    {
     "data": {
      "text/html": [
       "<div>\n",
       "<style scoped>\n",
       "    .dataframe tbody tr th:only-of-type {\n",
       "        vertical-align: middle;\n",
       "    }\n",
       "\n",
       "    .dataframe tbody tr th {\n",
       "        vertical-align: top;\n",
       "    }\n",
       "\n",
       "    .dataframe thead th {\n",
       "        text-align: right;\n",
       "    }\n",
       "</style>\n",
       "<table border=\"1\" class=\"dataframe\">\n",
       "  <thead>\n",
       "    <tr style=\"text-align: right;\">\n",
       "      <th></th>\n",
       "      <th>population_f0</th>\n",
       "      <th>lon</th>\n",
       "      <th>lat</th>\n",
       "    </tr>\n",
       "  </thead>\n",
       "  <tbody>\n",
       "    <tr>\n",
       "      <th>0</th>\n",
       "      <td>0.279885</td>\n",
       "      <td>35.394583</td>\n",
       "      <td>4.627917</td>\n",
       "    </tr>\n",
       "    <tr>\n",
       "      <th>1</th>\n",
       "      <td>0.131445</td>\n",
       "      <td>35.395417</td>\n",
       "      <td>4.627917</td>\n",
       "    </tr>\n",
       "    <tr>\n",
       "      <th>2</th>\n",
       "      <td>0.361219</td>\n",
       "      <td>35.397917</td>\n",
       "      <td>4.627917</td>\n",
       "    </tr>\n",
       "    <tr>\n",
       "      <th>3</th>\n",
       "      <td>0.986145</td>\n",
       "      <td>35.398750</td>\n",
       "      <td>4.627917</td>\n",
       "    </tr>\n",
       "    <tr>\n",
       "      <th>4</th>\n",
       "      <td>0.119915</td>\n",
       "      <td>35.499583</td>\n",
       "      <td>4.627917</td>\n",
       "    </tr>\n",
       "  </tbody>\n",
       "</table>\n",
       "</div>"
      ],
      "text/plain": [
       "   population_f0        lon       lat\n",
       "0       0.279885  35.394583  4.627917\n",
       "1       0.131445  35.395417  4.627917\n",
       "2       0.361219  35.397917  4.627917\n",
       "3       0.986145  35.398750  4.627917\n",
       "4       0.119915  35.499583  4.627917"
      ]
     },
     "execution_count": 39,
     "metadata": {},
     "output_type": "execute_result"
    }
   ],
   "source": [
    "df_population.head()"
   ]
  },
  {
   "cell_type": "code",
   "execution_count": 32,
   "metadata": {},
   "outputs": [
    {
     "data": {
      "text/html": [
       "<div>\n",
       "<style scoped>\n",
       "    .dataframe tbody tr th:only-of-type {\n",
       "        vertical-align: middle;\n",
       "    }\n",
       "\n",
       "    .dataframe tbody tr th {\n",
       "        vertical-align: top;\n",
       "    }\n",
       "\n",
       "    .dataframe thead th {\n",
       "        text-align: right;\n",
       "    }\n",
       "</style>\n",
       "<table border=\"1\" class=\"dataframe\">\n",
       "  <thead>\n",
       "    <tr style=\"text-align: right;\">\n",
       "      <th></th>\n",
       "      <th>population_f0</th>\n",
       "      <th>lon</th>\n",
       "      <th>lat</th>\n",
       "    </tr>\n",
       "  </thead>\n",
       "  <tbody>\n",
       "    <tr>\n",
       "      <th>0</th>\n",
       "      <td>0.279885</td>\n",
       "      <td>3.940133e+06</td>\n",
       "      <td>515774.32116</td>\n",
       "    </tr>\n",
       "    <tr>\n",
       "      <th>1</th>\n",
       "      <td>0.131445</td>\n",
       "      <td>3.940226e+06</td>\n",
       "      <td>515774.32116</td>\n",
       "    </tr>\n",
       "    <tr>\n",
       "      <th>2</th>\n",
       "      <td>0.361219</td>\n",
       "      <td>3.940504e+06</td>\n",
       "      <td>515774.32116</td>\n",
       "    </tr>\n",
       "    <tr>\n",
       "      <th>3</th>\n",
       "      <td>0.986145</td>\n",
       "      <td>3.940597e+06</td>\n",
       "      <td>515774.32116</td>\n",
       "    </tr>\n",
       "    <tr>\n",
       "      <th>4</th>\n",
       "      <td>0.119915</td>\n",
       "      <td>3.951830e+06</td>\n",
       "      <td>515774.32116</td>\n",
       "    </tr>\n",
       "  </tbody>\n",
       "</table>\n",
       "</div>"
      ],
      "text/plain": [
       "   population_f0           lon           lat\n",
       "0       0.279885  3.940133e+06  515774.32116\n",
       "1       0.131445  3.940226e+06  515774.32116\n",
       "2       0.361219  3.940504e+06  515774.32116\n",
       "3       0.986145  3.940597e+06  515774.32116\n",
       "4       0.119915  3.951830e+06  515774.32116"
      ]
     },
     "execution_count": 32,
     "metadata": {},
     "output_type": "execute_result"
    }
   ],
   "source": [
    "df_population.head()"
   ]
  },
  {
   "cell_type": "code",
   "execution_count": 41,
   "metadata": {},
   "outputs": [],
   "source": [
    "resolution = 8\n",
    "\n",
    "df_age_demographics = df_population[[\"lat\", \"lon\", \"population_f0\"]] \n",
    "df_age_demographics.rename(columns={'population_f0': 'population'}, inplace=True)\n",
    "df_age_demographics['h3'] = df_population.apply(lambda row: h3.geo_to_h3(row[\"lat\"], row[\"lon\"], resolution), axis = 1) \n",
    "df_aggreg_age_demographics = df_age_demographics.groupby(\"h3\")['population'].sum().reset_index() \n",
    "df_aggreg_age_demographics[\"geometry\"] =  df_aggreg_age_demographics.h3.apply(lambda x: {\"type\" : \"Polygon\",\n",
    "                                                           \"coordinates\": [h3.h3_to_geo_boundary(h=x,geo_json=True)]})\n",
    "# df_age_demographics['population'] = df_population['population']\n"
   ]
  },
  {
   "cell_type": "code",
   "execution_count": 56,
   "metadata": {},
   "outputs": [
    {
     "ename": "AttributeError",
     "evalue": "'DataFrame' object has no attribute 'total_bounds'",
     "output_type": "error",
     "traceback": [
      "\u001b[0;31m---------------------------------------------------------------------------\u001b[0m",
      "\u001b[0;31mAttributeError\u001b[0m                            Traceback (most recent call last)",
      "\u001b[0;32m/var/folders/b7/2dqsctv50sbgk3bg9gpz453c0000gn/T/ipykernel_47608/1567472386.py\u001b[0m in \u001b[0;36m?\u001b[0;34m()\u001b[0m\n\u001b[0;32m----> 1\u001b[0;31m \u001b[0mdf_aggreg_age_demographics\u001b[0m\u001b[0;34m.\u001b[0m\u001b[0mtotal_bounds\u001b[0m\u001b[0;34m\u001b[0m\u001b[0;34m\u001b[0m\u001b[0m\n\u001b[0m",
      "\u001b[0;32m~/Desktop/Duke/Fall2024/AIPI510/dataset-project/mapping-for-economic-development/venv/lib/python3.9/site-packages/pandas/core/generic.py\u001b[0m in \u001b[0;36m?\u001b[0;34m(self, name)\u001b[0m\n\u001b[1;32m   5985\u001b[0m             \u001b[0;32mand\u001b[0m \u001b[0mname\u001b[0m \u001b[0;32mnot\u001b[0m \u001b[0;32min\u001b[0m \u001b[0mself\u001b[0m\u001b[0;34m.\u001b[0m\u001b[0m_accessors\u001b[0m\u001b[0;34m\u001b[0m\u001b[0;34m\u001b[0m\u001b[0m\n\u001b[1;32m   5986\u001b[0m             \u001b[0;32mand\u001b[0m \u001b[0mself\u001b[0m\u001b[0;34m.\u001b[0m\u001b[0m_info_axis\u001b[0m\u001b[0;34m.\u001b[0m\u001b[0m_can_hold_identifiers_and_holds_name\u001b[0m\u001b[0;34m(\u001b[0m\u001b[0mname\u001b[0m\u001b[0;34m)\u001b[0m\u001b[0;34m\u001b[0m\u001b[0;34m\u001b[0m\u001b[0m\n\u001b[1;32m   5987\u001b[0m         ):\n\u001b[1;32m   5988\u001b[0m             \u001b[0;32mreturn\u001b[0m \u001b[0mself\u001b[0m\u001b[0;34m[\u001b[0m\u001b[0mname\u001b[0m\u001b[0;34m]\u001b[0m\u001b[0;34m\u001b[0m\u001b[0;34m\u001b[0m\u001b[0m\n\u001b[0;32m-> 5989\u001b[0;31m         \u001b[0;32mreturn\u001b[0m \u001b[0mobject\u001b[0m\u001b[0;34m.\u001b[0m\u001b[0m__getattribute__\u001b[0m\u001b[0;34m(\u001b[0m\u001b[0mself\u001b[0m\u001b[0;34m,\u001b[0m \u001b[0mname\u001b[0m\u001b[0;34m)\u001b[0m\u001b[0;34m\u001b[0m\u001b[0;34m\u001b[0m\u001b[0m\n\u001b[0m",
      "\u001b[0;31mAttributeError\u001b[0m: 'DataFrame' object has no attribute 'total_bounds'"
     ]
    }
   ],
   "source": [
    "df_aggreg_age_demographics.total_bounds"
   ]
  },
  {
   "cell_type": "code",
   "execution_count": 42,
   "metadata": {},
   "outputs": [
    {
     "data": {
      "text/plain": [
       "231360"
      ]
     },
     "execution_count": 42,
     "metadata": {},
     "output_type": "execute_result"
    }
   ],
   "source": [
    "len(gdf)"
   ]
  },
  {
   "cell_type": "code",
   "execution_count": 44,
   "metadata": {},
   "outputs": [
    {
     "data": {
      "text/plain": [
       "241169"
      ]
     },
     "execution_count": 44,
     "metadata": {},
     "output_type": "execute_result"
    }
   ],
   "source": [
    "len(df_aggreg_age_demographics)"
   ]
  },
  {
   "cell_type": "code",
   "execution_count": null,
   "metadata": {},
   "outputs": [],
   "source": []
  },
  {
   "cell_type": "code",
   "execution_count": 30,
   "metadata": {},
   "outputs": [],
   "source": [
    "def save_dataframe_to_csv(dataframe, filepath):\n",
    "    \"\"\"\n",
    "    Save a DataFrame to a CSV file.\n",
    "    \n",
    "    Parameters:\n",
    "    dataframe (pandas.DataFrame): DataFrame to save\n",
    "    filepath (str): Path where the CSV file should be saved\n",
    "    \n",
    "    Returns:\n",
    "    None\n",
    "    \"\"\"\n",
    "    try:\n",
    "        dataframe.to_csv(filepath, index=False)\n",
    "        print(f\"DataFrame successfully saved to {filepath}\")\n",
    "    except Exception as e:\n",
    "        print(f\"An error occurred while saving the DataFrame: {str(e)}\")"
   ]
  },
  {
   "cell_type": "code",
   "execution_count": 28,
   "metadata": {},
   "outputs": [
    {
     "data": {
      "text/html": [
       "<div>\n",
       "<style scoped>\n",
       "    .dataframe tbody tr th:only-of-type {\n",
       "        vertical-align: middle;\n",
       "    }\n",
       "\n",
       "    .dataframe tbody tr th {\n",
       "        vertical-align: top;\n",
       "    }\n",
       "\n",
       "    .dataframe thead th {\n",
       "        text-align: right;\n",
       "    }\n",
       "</style>\n",
       "<table border=\"1\" class=\"dataframe\">\n",
       "  <thead>\n",
       "    <tr style=\"text-align: right;\">\n",
       "      <th></th>\n",
       "      <th>population_f0</th>\n",
       "      <th>lon</th>\n",
       "      <th>lat</th>\n",
       "    </tr>\n",
       "  </thead>\n",
       "  <tbody>\n",
       "    <tr>\n",
       "      <th>0</th>\n",
       "      <td>0.279885</td>\n",
       "      <td>3.940133e+06</td>\n",
       "      <td>515774.32116</td>\n",
       "    </tr>\n",
       "    <tr>\n",
       "      <th>1</th>\n",
       "      <td>0.131445</td>\n",
       "      <td>3.940226e+06</td>\n",
       "      <td>515774.32116</td>\n",
       "    </tr>\n",
       "    <tr>\n",
       "      <th>2</th>\n",
       "      <td>0.361219</td>\n",
       "      <td>3.940504e+06</td>\n",
       "      <td>515774.32116</td>\n",
       "    </tr>\n",
       "    <tr>\n",
       "      <th>3</th>\n",
       "      <td>0.986145</td>\n",
       "      <td>3.940597e+06</td>\n",
       "      <td>515774.32116</td>\n",
       "    </tr>\n",
       "    <tr>\n",
       "      <th>4</th>\n",
       "      <td>0.119915</td>\n",
       "      <td>3.951830e+06</td>\n",
       "      <td>515774.32116</td>\n",
       "    </tr>\n",
       "  </tbody>\n",
       "</table>\n",
       "</div>"
      ],
      "text/plain": [
       "   population_f0           lon           lat\n",
       "0       0.279885  3.940133e+06  515774.32116\n",
       "1       0.131445  3.940226e+06  515774.32116\n",
       "2       0.361219  3.940504e+06  515774.32116\n",
       "3       0.986145  3.940597e+06  515774.32116\n",
       "4       0.119915  3.951830e+06  515774.32116"
      ]
     },
     "execution_count": 28,
     "metadata": {},
     "output_type": "execute_result"
    }
   ],
   "source": [
    "df_population.head()"
   ]
  },
  {
   "cell_type": "code",
   "execution_count": 33,
   "metadata": {},
   "outputs": [
    {
     "name": "stdout",
     "output_type": "stream",
     "text": [
      "DataFrame successfully saved to ./output/test.csv\n"
     ]
    }
   ],
   "source": [
    "save_dataframe_to_csv(df_population, './output/test.csv')"
   ]
  },
  {
   "cell_type": "code",
   "execution_count": 37,
   "metadata": {},
   "outputs": [],
   "source": [
    "resolution = 8"
   ]
  },
  {
   "cell_type": "code",
   "execution_count": 22,
   "metadata": {},
   "outputs": [],
   "source": [
    "resolution = 8\n",
    "\n",
    "df_age_demographics = df_population[[\"lat\", \"lon\", \"population_f0\"]] \n",
    "df_age_demographics.rename(columns={'population_f0': 'population'}, inplace=True)\n",
    "df_age_demographics['h3'] = df_population.apply(lambda row: h3.geo_to_h3(row[\"lat\"], row[\"lon\"], resolution), axis = 1) \n",
    "df_aggreg_age_demographics = df_age_demographics.groupby(\"h3\")['population'].sum().reset_index() \n",
    "df_aggreg_age_demographics[\"geometry\"] =  df_aggreg_age_demographics.h3.apply(lambda x: {\"type\" : \"Polygon\",\n",
    "                                                           \"coordinates\": [h3.h3_to_geo_boundary(h=x,geo_json=True)]})\n",
    "# df_age_demographics['population'] = df_population['population']\n"
   ]
  },
  {
   "cell_type": "code",
   "execution_count": 23,
   "metadata": {},
   "outputs": [
    {
     "data": {
      "text/html": [
       "<div>\n",
       "<style scoped>\n",
       "    .dataframe tbody tr th:only-of-type {\n",
       "        vertical-align: middle;\n",
       "    }\n",
       "\n",
       "    .dataframe tbody tr th {\n",
       "        vertical-align: top;\n",
       "    }\n",
       "\n",
       "    .dataframe thead th {\n",
       "        text-align: right;\n",
       "    }\n",
       "</style>\n",
       "<table border=\"1\" class=\"dataframe\">\n",
       "  <thead>\n",
       "    <tr style=\"text-align: right;\">\n",
       "      <th></th>\n",
       "      <th>h3</th>\n",
       "      <th>population</th>\n",
       "      <th>geometry</th>\n",
       "    </tr>\n",
       "  </thead>\n",
       "  <tbody>\n",
       "    <tr>\n",
       "      <th>0</th>\n",
       "      <td>8800000161fffff</td>\n",
       "      <td>0.100589</td>\n",
       "      <td>{'type': 'Polygon', 'coordinates': [((38.38953...</td>\n",
       "    </tr>\n",
       "    <tr>\n",
       "      <th>1</th>\n",
       "      <td>88000001c5fffff</td>\n",
       "      <td>0.099291</td>\n",
       "      <td>{'type': 'Polygon', 'coordinates': [((38.22333...</td>\n",
       "    </tr>\n",
       "    <tr>\n",
       "      <th>2</th>\n",
       "      <td>8800000209fffff</td>\n",
       "      <td>0.021407</td>\n",
       "      <td>{'type': 'Polygon', 'coordinates': [((37.78210...</td>\n",
       "    </tr>\n",
       "    <tr>\n",
       "      <th>3</th>\n",
       "      <td>88000004e7fffff</td>\n",
       "      <td>0.086284</td>\n",
       "      <td>{'type': 'Polygon', 'coordinates': [((37.52301...</td>\n",
       "    </tr>\n",
       "    <tr>\n",
       "      <th>4</th>\n",
       "      <td>88000005d1fffff</td>\n",
       "      <td>0.265389</td>\n",
       "      <td>{'type': 'Polygon', 'coordinates': [((37.61094...</td>\n",
       "    </tr>\n",
       "  </tbody>\n",
       "</table>\n",
       "</div>"
      ],
      "text/plain": [
       "                h3  population  \\\n",
       "0  8800000161fffff    0.100589   \n",
       "1  88000001c5fffff    0.099291   \n",
       "2  8800000209fffff    0.021407   \n",
       "3  88000004e7fffff    0.086284   \n",
       "4  88000005d1fffff    0.265389   \n",
       "\n",
       "                                            geometry  \n",
       "0  {'type': 'Polygon', 'coordinates': [((38.38953...  \n",
       "1  {'type': 'Polygon', 'coordinates': [((38.22333...  \n",
       "2  {'type': 'Polygon', 'coordinates': [((37.78210...  \n",
       "3  {'type': 'Polygon', 'coordinates': [((37.52301...  \n",
       "4  {'type': 'Polygon', 'coordinates': [((37.61094...  "
      ]
     },
     "execution_count": 23,
     "metadata": {},
     "output_type": "execute_result"
    }
   ],
   "source": [
    "df_aggreg_age_demographics.head()"
   ]
  },
  {
   "cell_type": "code",
   "execution_count": 25,
   "metadata": {},
   "outputs": [
    {
     "data": {
      "text/plain": [
       "(4880875, 3)"
      ]
     },
     "execution_count": 25,
     "metadata": {},
     "output_type": "execute_result"
    }
   ],
   "source": [
    "df_aggreg_age_demographics.shape"
   ]
  },
  {
   "cell_type": "code",
   "execution_count": 41,
   "metadata": {},
   "outputs": [
    {
     "data": {
      "text/html": [
       "<div>\n",
       "<style scoped>\n",
       "    .dataframe tbody tr th:only-of-type {\n",
       "        vertical-align: middle;\n",
       "    }\n",
       "\n",
       "    .dataframe tbody tr th {\n",
       "        vertical-align: top;\n",
       "    }\n",
       "\n",
       "    .dataframe thead th {\n",
       "        text-align: right;\n",
       "    }\n",
       "</style>\n",
       "<table border=\"1\" class=\"dataframe\">\n",
       "  <thead>\n",
       "    <tr style=\"text-align: right;\">\n",
       "      <th></th>\n",
       "      <th>geometry</th>\n",
       "    </tr>\n",
       "  </thead>\n",
       "  <tbody>\n",
       "    <tr>\n",
       "      <th>0</th>\n",
       "      <td>POLYGON ((41.90708 -4.68042, 41.90708 5.03375,...</td>\n",
       "    </tr>\n",
       "  </tbody>\n",
       "</table>\n",
       "</div>"
      ],
      "text/plain": [
       "                                            geometry\n",
       "0  POLYGON ((41.90708 -4.68042, 41.90708 5.03375,..."
      ]
     },
     "execution_count": 41,
     "metadata": {},
     "output_type": "execute_result"
    }
   ],
   "source": [
    "gdf.head()"
   ]
  },
  {
   "cell_type": "code",
   "execution_count": 42,
   "metadata": {},
   "outputs": [
    {
     "data": {
      "text/html": [
       "<div>\n",
       "<style scoped>\n",
       "    .dataframe tbody tr th:only-of-type {\n",
       "        vertical-align: middle;\n",
       "    }\n",
       "\n",
       "    .dataframe tbody tr th {\n",
       "        vertical-align: top;\n",
       "    }\n",
       "\n",
       "    .dataframe thead th {\n",
       "        text-align: right;\n",
       "    }\n",
       "</style>\n",
       "<table border=\"1\" class=\"dataframe\">\n",
       "  <thead>\n",
       "    <tr style=\"text-align: right;\">\n",
       "      <th></th>\n",
       "      <th>h3</th>\n",
       "      <th>population</th>\n",
       "      <th>geometry</th>\n",
       "    </tr>\n",
       "  </thead>\n",
       "  <tbody>\n",
       "    <tr>\n",
       "      <th>0</th>\n",
       "      <td>886a58000dfffff</td>\n",
       "      <td>0.451687</td>\n",
       "      <td>{'type': 'Polygon', 'coordinates': [((34.42288...</td>\n",
       "    </tr>\n",
       "    <tr>\n",
       "      <th>1</th>\n",
       "      <td>886a580045fffff</td>\n",
       "      <td>0.027381</td>\n",
       "      <td>{'type': 'Polygon', 'coordinates': [((34.41343...</td>\n",
       "    </tr>\n",
       "    <tr>\n",
       "      <th>2</th>\n",
       "      <td>886a580047fffff</td>\n",
       "      <td>0.476617</td>\n",
       "      <td>{'type': 'Polygon', 'coordinates': [((34.42150...</td>\n",
       "    </tr>\n",
       "    <tr>\n",
       "      <th>3</th>\n",
       "      <td>886a58004dfffff</td>\n",
       "      <td>0.542941</td>\n",
       "      <td>{'type': 'Polygon', 'coordinates': [((34.41205...</td>\n",
       "    </tr>\n",
       "    <tr>\n",
       "      <th>4</th>\n",
       "      <td>886a580061fffff</td>\n",
       "      <td>0.058805</td>\n",
       "      <td>{'type': 'Polygon', 'coordinates': [((34.40811...</td>\n",
       "    </tr>\n",
       "  </tbody>\n",
       "</table>\n",
       "</div>"
      ],
      "text/plain": [
       "                h3  population  \\\n",
       "0  886a58000dfffff    0.451687   \n",
       "1  886a580045fffff    0.027381   \n",
       "2  886a580047fffff    0.476617   \n",
       "3  886a58004dfffff    0.542941   \n",
       "4  886a580061fffff    0.058805   \n",
       "\n",
       "                                            geometry  \n",
       "0  {'type': 'Polygon', 'coordinates': [((34.42288...  \n",
       "1  {'type': 'Polygon', 'coordinates': [((34.41343...  \n",
       "2  {'type': 'Polygon', 'coordinates': [((34.42150...  \n",
       "3  {'type': 'Polygon', 'coordinates': [((34.41205...  \n",
       "4  {'type': 'Polygon', 'coordinates': [((34.40811...  "
      ]
     },
     "execution_count": 42,
     "metadata": {},
     "output_type": "execute_result"
    }
   ],
   "source": [
    "df_aggreg_age_demographics.head()"
   ]
  },
  {
   "cell_type": "code",
   "execution_count": 43,
   "metadata": {},
   "outputs": [
    {
     "data": {
      "text/plain": [
       "(1, 1)"
      ]
     },
     "execution_count": 43,
     "metadata": {},
     "output_type": "execute_result"
    }
   ],
   "source": [
    "gdf.shape"
   ]
  },
  {
   "cell_type": "code",
   "execution_count": 53,
   "metadata": {},
   "outputs": [
    {
     "name": "stdout",
     "output_type": "stream",
     "text": [
      "186879\n"
     ]
    }
   ],
   "source": [
    "common_ids = gdf.merge(df_aggreg_age_demographics, on='h3', how='inner')\n",
    "num_common_ids = len(common_ids)\n",
    "print(num_common_ids)"
   ]
  },
  {
   "cell_type": "code",
   "execution_count": 27,
   "metadata": {},
   "outputs": [
    {
     "name": "stdout",
     "output_type": "stream",
     "text": [
      "(231360, 3)\n"
     ]
    }
   ],
   "source": [
    "print(gdf.shape)"
   ]
  },
  {
   "cell_type": "code",
   "execution_count": 49,
   "metadata": {},
   "outputs": [],
   "source": [
    "def find_unmatched_ids(df1, df2, id_column='id'):\n",
    "    \"\"\"\n",
    "    Find IDs that don't match between two DataFrames.\n",
    "    \n",
    "    Parameters:\n",
    "    df1 (pandas.DataFrame): First DataFrame\n",
    "    df2 (pandas.DataFrame): Second DataFrame\n",
    "    id_column (str): Name of the ID column (default: 'id')\n",
    "    \n",
    "    Returns:\n",
    "    pandas.DataFrame: DataFrame containing unmatched IDs\n",
    "    \"\"\"\n",
    "    # Get all unique IDs from both DataFrames\n",
    "    all_ids = set(df1[id_column]).union(set(df2[id_column]))\n",
    "    \n",
    "    # Perform an inner join\n",
    "    matched_ids = set(pd.merge(df1, df2, on=id_column)[id_column])\n",
    "    \n",
    "    # Find the difference\n",
    "    unmatched_ids = all_ids - matched_ids\n",
    "    \n",
    "    # Create a new DataFrame with the unmatched IDs\n",
    "    unmatched_df = pd.DataFrame({id_column: list(unmatched_ids)})\n",
    "    \n",
    "    return unmatched_df\n",
    "\n",
    "def find_unmatched_ids_with_population(df1, df2, id_column='h3', population_column='population'):\n",
    "    \"\"\"\n",
    "    Find IDs that don't match between two DataFrames and include their population values.\n",
    "    \n",
    "    Parameters:\n",
    "    df1 (pandas.DataFrame): First DataFrame\n",
    "    df2 (pandas.DataFrame): Second DataFrame\n",
    "    id_column (str): Name of the ID column (default: 'id')\n",
    "    population_column (str): Name of the population column (default: 'population')\n",
    "    \n",
    "    Returns:\n",
    "    pandas.DataFrame: DataFrame containing unmatched IDs and their population values\n",
    "    \"\"\"\n",
    "    # Get all unique IDs from both DataFrames\n",
    "    all_ids = set(df1[id_column]).union(set(df2[id_column]))\n",
    "    \n",
    "    # Perform an inner join\n",
    "    matched_ids = set(pd.merge(df1, df2, on=id_column)[id_column])\n",
    "    \n",
    "   # Perform an outer join to keep all rows from both dataframes\n",
    "    merged_df = pd.merge(df1, df2, on='h3', how='outer', indicator=True)\n",
    "\n",
    "    # Filter rows where the match indicator is either 'left_only' or 'right_only'\n",
    "    unmatched_df = merged_df[merged_df['_merge'] != 'both']\n",
    "    \n",
    "    return unmatched_df"
   ]
  },
  {
   "cell_type": "code",
   "execution_count": 50,
   "metadata": {},
   "outputs": [],
   "source": [
    "unmatched_df = find_unmatched_ids_with_population(gdf, df_aggreg_age_demographics, 'h3')"
   ]
  },
  {
   "cell_type": "code",
   "execution_count": 53,
   "metadata": {},
   "outputs": [
    {
     "data": {
      "text/plain": [
       "(98771, 6)"
      ]
     },
     "execution_count": 53,
     "metadata": {},
     "output_type": "execute_result"
    }
   ],
   "source": [
    "unmatched_df.shape"
   ]
  },
  {
   "cell_type": "code",
   "execution_count": 141,
   "metadata": {},
   "outputs": [
    {
     "name": "stdout",
     "output_type": "stream",
     "text": [
      "83827\n"
     ]
    }
   ],
   "source": [
    "print(unmatched_df['population'].apply(lambda x: x <= 11).sum())"
   ]
  },
  {
   "cell_type": "code",
   "execution_count": 34,
   "metadata": {},
   "outputs": [],
   "source": [
    "def hexagon_centroid_join(df1, df2, h3_column='h3_index'):\n",
    "    # Convert H3 indices to centroids\n",
    "    def h3_to_centroid(h3_index):\n",
    "        lat, lng = h3.h3_to_geo(h3_index)\n",
    "        return gpd.points_from_xy([lng], [lat])[0]\n",
    "    \n",
    "    # Create GeoDataFrames with centroid geometries\n",
    "    gdf1 = gpd.GeoDataFrame(df1, geometry=df1[h3_column].apply(h3_to_centroid))\n",
    "    gdf2 = gpd.GeoDataFrame(df2, geometry=df2[h3_column].apply(h3_to_centroid))\n",
    "    \n",
    "    # Perform a spatial join\n",
    "    joined = gpd.sjoin_nearest(gdf1, gdf2, how='outer', max_distance=0.001)  # Adjust max_distance as needed\n",
    "    \n",
    "    return joined\n"
   ]
  },
  {
   "cell_type": "code",
   "execution_count": 140,
   "metadata": {},
   "outputs": [
    {
     "data": {
      "text/plain": [
       "(98771, 2)"
      ]
     },
     "execution_count": 140,
     "metadata": {},
     "output_type": "execute_result"
    }
   ],
   "source": [
    "unmatched_df.shape"
   ]
  },
  {
   "cell_type": "code",
   "execution_count": 137,
   "metadata": {},
   "outputs": [],
   "source": [
    "age_demographics_geojson = hexagons_dataframe_to_geojson(unmatched_df)"
   ]
  },
  {
   "cell_type": "code",
   "execution_count": 138,
   "metadata": {},
   "outputs": [],
   "source": [
    "hexmap = choropleth_map(df_aggreg = unmatched_df, with_legend = True, kind = \"filled_nulls\") "
   ]
  },
  {
   "cell_type": "code",
   "execution_count": null,
   "metadata": {},
   "outputs": [],
   "source": [
    "hexmap"
   ]
  },
  {
   "cell_type": "code",
   "execution_count": 38,
   "metadata": {},
   "outputs": [
    {
     "name": "stdout",
     "output_type": "stream",
     "text": [
      "4970018\n"
     ]
    }
   ],
   "source": [
    "\n",
    "# Group by lon and lat and count the unique pairs\n",
    "unique_count = df_population.groupby(['lon', 'lat']).size().reset_index(name='count')\n",
    "\n",
    "# Get the number of unique pairs\n",
    "num_unique_pairs = unique_count.shape[0]\n",
    "print(num_unique_pairs)"
   ]
  },
  {
   "cell_type": "code",
   "execution_count": 27,
   "metadata": {},
   "outputs": [
    {
     "data": {
      "text/html": [
       "<div>\n",
       "<style scoped>\n",
       "    .dataframe tbody tr th:only-of-type {\n",
       "        vertical-align: middle;\n",
       "    }\n",
       "\n",
       "    .dataframe tbody tr th {\n",
       "        vertical-align: top;\n",
       "    }\n",
       "\n",
       "    .dataframe thead th {\n",
       "        text-align: right;\n",
       "    }\n",
       "</style>\n",
       "<table border=\"1\" class=\"dataframe\">\n",
       "  <thead>\n",
       "    <tr style=\"text-align: right;\">\n",
       "      <th></th>\n",
       "      <th>geometry</th>\n",
       "    </tr>\n",
       "  </thead>\n",
       "  <tbody>\n",
       "    <tr>\n",
       "      <th>0</th>\n",
       "      <td>POLYGON ((41.90708 -4.68042, 41.90708 5.03375,...</td>\n",
       "    </tr>\n",
       "  </tbody>\n",
       "</table>\n",
       "</div>"
      ],
      "text/plain": [
       "                                            geometry\n",
       "0  POLYGON ((41.90708 -4.68042, 41.90708 5.03375,..."
      ]
     },
     "execution_count": 27,
     "metadata": {},
     "output_type": "execute_result"
    }
   ],
   "source": [
    "gdf.head(5)"
   ]
  },
  {
   "cell_type": "code",
   "execution_count": 23,
   "metadata": {},
   "outputs": [
    {
     "data": {
      "text/plain": [
       "array([[-3.4e+38]], dtype=float32)"
      ]
     },
     "execution_count": 23,
     "metadata": {},
     "output_type": "execute_result"
    }
   ],
   "source": [
    "band1[0:1, 0:1]"
   ]
  },
  {
   "cell_type": "code",
   "execution_count": 19,
   "metadata": {},
   "outputs": [
    {
     "data": {
      "image/png": "[encoded data removed]",
      "text/plain": [
       "<Figure size 640x480 with 2 Axes>"
      ]
     },
     "metadata": {},
     "output_type": "display_data"
    }
   ],
   "source": [
    "import matplotlib.pyplot as plt\n",
    "\n",
    "plt.imshow(band1, cmap='gray')\n",
    "plt.colorbar()\n",
    "plt.show()"
   ]
  },
  {
   "cell_type": "markdown",
   "metadata": {},
   "source": [
    "## Plotting"
   ]
  },
  {
   "cell_type": "code",
   "execution_count": null,
   "metadata": {},
   "outputs": [],
   "source": [
    "# Create a simple plot\n",
    "fig, ax = plt.subplots(figsize=(10, 10))\n",
    "gdf.plot(ax=ax, column='population', legend=True, cmap='viridis', \n",
    "         legend_kwds={'label': 'Population', 'orientation': 'horizontal'})\n",
    "\n",
    "plt.title(\"Population Distribution\")\n",
    "plt.axis('off')\n",
    "plt.show()"
   ]
  },
  {
   "cell_type": "code",
   "execution_count": 7,
   "metadata": {},
   "outputs": [],
   "source": [
    "from bokeh.io import output_file, show\n",
    "from bokeh.plotting import figure\n",
    "from bokeh.models import GeoJSONDataSource, LinearColorMapper, ColorBar\n",
    "from bokeh.palettes import brewer\n",
    "import geopandas as gpd\n",
    "\n",
    "# Convert to GeoJSONDataSource\n",
    "geosource = GeoJSONDataSource(geojson=gdf.to_json())\n",
    "\n",
    "# Define color palette\n",
    "palette = brewer['YlOrRd'][8]\n",
    "color_mapper = LinearColorMapper(palette=palette, low=gdf['population'].min(), high=gdf['population'].max())\n",
    "\n",
    "# Create figure\n",
    "p = figure(title=\"Population Distribution\", toolbar_location=\"below\", tools=\"pan,wheel_zoom,box_zoom,reset\")\n",
    "p.xgrid.grid_line_color = None\n",
    "p.ygrid.grid_line_color = None\n",
    "\n",
    "# Add patch renderer to figure\n",
    "p.patches('xs', 'ys', source=geosource, fill_color={'field': 'population', 'transform': color_mapper},\n",
    "          line_color='black', line_width=0.25, fill_alpha=1)\n",
    "\n",
    "# Add ColorBar\n",
    "color_bar = ColorBar(color_mapper=color_mapper, label_standoff=8, width=500, height=20,\n",
    "                     border_line_color=None, location=(0,0), orientation='horizontal')\n",
    "p.add_layout(color_bar, 'below')\n",
    "\n",
    "# Output to file\n",
    "output_file(\"population_map.html\")\n",
    "show(p)"
   ]
  },
  {
   "cell_type": "code",
   "execution_count": 166,
   "metadata": {},
   "outputs": [],
   "source": [
    "df_f45 = pd.read_csv('./output/df_h3/df_KEN_agesex_population_f45.csv')\n",
    "df_f50 = pd.read_csv('./output/df_h3/df_KEN_agesex_population_f50.csv')\n",
    "df_m10 = pd.read_csv('./output/df_h3/df_KEN_agesex_population_m10.csv')"
   ]
  },
  {
   "cell_type": "code",
   "execution_count": 175,
   "metadata": {},
   "outputs": [
    {
     "data": {
      "text/html": [
       "<div>\n",
       "<style scoped>\n",
       "    .dataframe tbody tr th:only-of-type {\n",
       "        vertical-align: middle;\n",
       "    }\n",
       "\n",
       "    .dataframe tbody tr th {\n",
       "        vertical-align: top;\n",
       "    }\n",
       "\n",
       "    .dataframe thead th {\n",
       "        text-align: right;\n",
       "    }\n",
       "</style>\n",
       "<table border=\"1\" class=\"dataframe\">\n",
       "  <thead>\n",
       "    <tr style=\"text-align: right;\">\n",
       "      <th></th>\n",
       "      <th>population_f45</th>\n",
       "      <th>lon</th>\n",
       "      <th>lat</th>\n",
       "    </tr>\n",
       "  </thead>\n",
       "  <tbody>\n",
       "    <tr>\n",
       "      <th>0</th>\n",
       "      <td>0.244674</td>\n",
       "      <td>35.394583</td>\n",
       "      <td>4.627917</td>\n",
       "    </tr>\n",
       "    <tr>\n",
       "      <th>1</th>\n",
       "      <td>0.114908</td>\n",
       "      <td>35.395417</td>\n",
       "      <td>4.627917</td>\n",
       "    </tr>\n",
       "    <tr>\n",
       "      <th>2</th>\n",
       "      <td>0.315775</td>\n",
       "      <td>35.397917</td>\n",
       "      <td>4.627917</td>\n",
       "    </tr>\n",
       "    <tr>\n",
       "      <th>3</th>\n",
       "      <td>0.862081</td>\n",
       "      <td>35.398750</td>\n",
       "      <td>4.627917</td>\n",
       "    </tr>\n",
       "    <tr>\n",
       "      <th>4</th>\n",
       "      <td>0.104829</td>\n",
       "      <td>35.499583</td>\n",
       "      <td>4.627917</td>\n",
       "    </tr>\n",
       "  </tbody>\n",
       "</table>\n",
       "</div>"
      ],
      "text/plain": [
       "   population_f45        lon       lat\n",
       "0        0.244674  35.394583  4.627917\n",
       "1        0.114908  35.395417  4.627917\n",
       "2        0.315775  35.397917  4.627917\n",
       "3        0.862081  35.398750  4.627917\n",
       "4        0.104829  35.499583  4.627917"
      ]
     },
     "execution_count": 175,
     "metadata": {},
     "output_type": "execute_result"
    }
   ],
   "source": [
    "df_f45.head()"
   ]
  },
  {
   "cell_type": "code",
   "execution_count": 180,
   "metadata": {},
   "outputs": [],
   "source": [
    "def gis_df_to_h3_df(df, population_column_name):\n",
    "    print(f'Processing df for {population_column_name}')\n",
    "    resolution = 8\n",
    "    try:\n",
    "        df['h3'] = df.apply(lambda row: h3.geo_to_h3(row[\"lat\"], row[\"lon\"], resolution), axis = 1) \n",
    "        df_h3_agg = df.groupby(\"h3\")[population_column_name].sum().reset_index() \n",
    "        print(\"Successfuly created the h3 df\")\n",
    "    except:\n",
    "        print(\"An error has occured while converting lat and lon to h3\")\n",
    "    \n",
    "    return df_h3_agg"
   ]
  },
  {
   "cell_type": "code",
   "execution_count": 189,
   "metadata": {},
   "outputs": [
    {
     "name": "stdout",
     "output_type": "stream",
     "text": [
      "Processing df for population_f45\n",
      "Successfuly created the h3 df\n"
     ]
    }
   ],
   "source": [
    "df_h3_f45 = gis_df_to_h3_df(df_f45, 'population_f45') "
   ]
  },
  {
   "cell_type": "code",
   "execution_count": 57,
   "metadata": {},
   "outputs": [],
   "source": [
    "from scipy.spatial import cKDTree"
   ]
  },
  {
   "cell_type": "code",
   "execution_count": 58,
   "metadata": {},
   "outputs": [],
   "source": [
    "from shapely.geometry import Point"
   ]
  },
  {
   "cell_type": "code",
   "execution_count": 50,
   "metadata": {},
   "outputs": [],
   "source": [
    "from shapely.geometry import Polygon"
   ]
  },
  {
   "cell_type": "code",
   "execution_count": null,
   "metadata": {},
   "outputs": [],
   "source": [
    "from shapely.geometry import Polygon\n",
    "\n",
    "def cell_to_shapely(cell):\n",
    "    coords = h3.h3_to_geo_boundary(cell)\n",
    "    flipped = tuple(coord[::-1] for coord in coords)\n",
    "    return Polygon(flipped)\n",
    "\n",
    "h3_geoms = h3_df[col].apply(lambda x: cell_to_shapely(x))\n",
    "h3_gdf = gpd.GeoDataFrame(data=h3_df, geometry=h3_geoms, crs=4326)"
   ]
  },
  {
   "cell_type": "code",
   "execution_count": 32,
   "metadata": {},
   "outputs": [],
   "source": [
    "df_h3_agesex = pd.read_csv('./output/KEN_agesex_aggregated.csv')"
   ]
  },
  {
   "cell_type": "code",
   "execution_count": 58,
   "metadata": {},
   "outputs": [
    {
     "data": {
      "text/plain": [
       "(241169, 3)"
      ]
     },
     "execution_count": 58,
     "metadata": {},
     "output_type": "execute_result"
    }
   ],
   "source": [
    "df_aggreg_age_demographics.shape"
   ]
  },
  {
   "cell_type": "code",
   "execution_count": 54,
   "metadata": {},
   "outputs": [
    {
     "name": "stderr",
     "output_type": "stream",
     "text": [
      "/var/folders/b7/2dqsctv50sbgk3bg9gpz453c0000gn/T/ipykernel_95618/1679927494.py:13: UserWarning: CRS mismatch between the CRS of left geometries and the CRS of right geometries.\n",
      "Use `to_crs()` to reproject one of the input geometries to match the CRS of the other.\n",
      "\n",
      "Left CRS: EPSG:3857\n",
      "Right CRS: None\n",
      "\n",
      "  joined = gpd.sjoin(gdf1, gdf2, how='inner', predicate='intersects')\n"
     ]
    }
   ],
   "source": [
    "df = hexagon_overlap_join(gdf, df_aggreg_age_demographics, 'h3')"
   ]
  },
  {
   "cell_type": "code",
   "execution_count": 55,
   "metadata": {},
   "outputs": [
    {
     "data": {
      "text/html": [
       "<div>\n",
       "<style scoped>\n",
       "    .dataframe tbody tr th:only-of-type {\n",
       "        vertical-align: middle;\n",
       "    }\n",
       "\n",
       "    .dataframe tbody tr th {\n",
       "        vertical-align: top;\n",
       "    }\n",
       "\n",
       "    .dataframe thead th {\n",
       "        text-align: right;\n",
       "    }\n",
       "</style>\n",
       "<table border=\"1\" class=\"dataframe\">\n",
       "  <thead>\n",
       "    <tr style=\"text-align: right;\">\n",
       "      <th></th>\n",
       "      <th>h3_left</th>\n",
       "      <th>population_left</th>\n",
       "      <th>geometry</th>\n",
       "      <th>index_right</th>\n",
       "      <th>h3_right</th>\n",
       "      <th>population_right</th>\n",
       "    </tr>\n",
       "  </thead>\n",
       "  <tbody>\n",
       "    <tr>\n",
       "      <th>0</th>\n",
       "      <td>887b5bb76dfffff</td>\n",
       "      <td>214.0</td>\n",
       "      <td>POLYGON ((40.161 -3.068, 40.162 -3.063, 40.159...</td>\n",
       "      <td>240845</td>\n",
       "      <td>887b5bb297fffff</td>\n",
       "      <td>1.013906</td>\n",
       "    </tr>\n",
       "    <tr>\n",
       "      <th>0</th>\n",
       "      <td>887b5bb76dfffff</td>\n",
       "      <td>214.0</td>\n",
       "      <td>POLYGON ((40.161 -3.068, 40.162 -3.063, 40.159...</td>\n",
       "      <td>241166</td>\n",
       "      <td>887b5bb769fffff</td>\n",
       "      <td>3.554205</td>\n",
       "    </tr>\n",
       "    <tr>\n",
       "      <th>0</th>\n",
       "      <td>887b5bb76dfffff</td>\n",
       "      <td>214.0</td>\n",
       "      <td>POLYGON ((40.161 -3.068, 40.162 -3.063, 40.159...</td>\n",
       "      <td>240851</td>\n",
       "      <td>887b5bb2bbfffff</td>\n",
       "      <td>3.168259</td>\n",
       "    </tr>\n",
       "    <tr>\n",
       "      <th>0</th>\n",
       "      <td>887b5bb76dfffff</td>\n",
       "      <td>214.0</td>\n",
       "      <td>POLYGON ((40.161 -3.068, 40.162 -3.063, 40.159...</td>\n",
       "      <td>241168</td>\n",
       "      <td>887b5bb76dfffff</td>\n",
       "      <td>4.647244</td>\n",
       "    </tr>\n",
       "    <tr>\n",
       "      <th>0</th>\n",
       "      <td>887b5bb76dfffff</td>\n",
       "      <td>214.0</td>\n",
       "      <td>POLYGON ((40.161 -3.068, 40.162 -3.063, 40.159...</td>\n",
       "      <td>241163</td>\n",
       "      <td>887b5bb761fffff</td>\n",
       "      <td>5.450635</td>\n",
       "    </tr>\n",
       "  </tbody>\n",
       "</table>\n",
       "</div>"
      ],
      "text/plain": [
       "           h3_left  population_left  \\\n",
       "0  887b5bb76dfffff            214.0   \n",
       "0  887b5bb76dfffff            214.0   \n",
       "0  887b5bb76dfffff            214.0   \n",
       "0  887b5bb76dfffff            214.0   \n",
       "0  887b5bb76dfffff            214.0   \n",
       "\n",
       "                                            geometry  index_right  \\\n",
       "0  POLYGON ((40.161 -3.068, 40.162 -3.063, 40.159...       240845   \n",
       "0  POLYGON ((40.161 -3.068, 40.162 -3.063, 40.159...       241166   \n",
       "0  POLYGON ((40.161 -3.068, 40.162 -3.063, 40.159...       240851   \n",
       "0  POLYGON ((40.161 -3.068, 40.162 -3.063, 40.159...       241168   \n",
       "0  POLYGON ((40.161 -3.068, 40.162 -3.063, 40.159...       241163   \n",
       "\n",
       "          h3_right  population_right  \n",
       "0  887b5bb297fffff          1.013906  \n",
       "0  887b5bb769fffff          3.554205  \n",
       "0  887b5bb2bbfffff          3.168259  \n",
       "0  887b5bb76dfffff          4.647244  \n",
       "0  887b5bb761fffff          5.450635  "
      ]
     },
     "execution_count": 55,
     "metadata": {},
     "output_type": "execute_result"
    }
   ],
   "source": [
    "df.head(5)"
   ]
  }
 ],
 "metadata": {
  "kernelspec": {
   "display_name": "venv",
   "language": "python",
   "name": "python3"
  },
  "language_info": {
   "codemirror_mode": {
    "name": "ipython",
    "version": 3
   },
   "file_extension": ".py",
   "mimetype": "text/x-python",
   "name": "python",
   "nbconvert_exporter": "python",
   "pygments_lexer": "ipython3",
   "version": "3.9.6"
  }
 },
 "nbformat": 4,
 "nbformat_minor": 2
}
